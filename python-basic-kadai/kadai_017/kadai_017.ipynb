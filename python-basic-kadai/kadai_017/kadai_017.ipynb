{
 "cells": [
  {
   "cell_type": "code",
   "execution_count": 8,
   "metadata": {},
   "outputs": [
    {
     "name": "stdout",
     "output_type": "stream",
     "text": [
      "渡辺は大人です\n",
      "鈴木は子供です\n",
      "miselは大人です\n"
     ]
    }
   ],
   "source": [
    "class Human:\n",
    "    def __init__(self,name,age):\n",
    "        self.name=name\n",
    "        self.age=age\n",
    "\n",
    "    def check_adult(self):\n",
    "        if self.age>=20:\n",
    "            print(f'{self.name}は大人です')\n",
    "        else:\n",
    "            print(f'{self.name}は子供です')\n",
    "\n",
    "user1=Human('渡辺',32)\n",
    "user2=Human('鈴木',14)\n",
    "user3=Human('misel',78)\n",
    "person_list=[user1,user2,user3]\n",
    "\n",
    "for i in person_list:\n",
    "    i.check_adult()\n"
   ]
  }
 ],
 "metadata": {
  "kernelspec": {
   "display_name": "Python 3",
   "language": "python",
   "name": "python3"
  },
  "language_info": {
   "codemirror_mode": {
    "name": "ipython",
    "version": 3
   },
   "file_extension": ".py",
   "mimetype": "text/x-python",
   "name": "python",
   "nbconvert_exporter": "python",
   "pygments_lexer": "ipython3",
   "version": "3.13.0"
  }
 },
 "nbformat": 4,
 "nbformat_minor": 2
}

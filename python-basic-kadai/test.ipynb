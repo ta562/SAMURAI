{
 "cells": [
  {
   "cell_type": "code",
   "execution_count": 19,
   "metadata": {},
   "outputs": [
    {
     "name": "stdout",
     "output_type": "stream",
     "text": [
      "['侍', 'itirou', 'jirou', 'saburou', 'sirou', 'samuraigorou']\n",
      "['侍', 'itirou', 'saburou', 'sirou', 'samuraigorou']\n"
     ]
    }
   ],
   "source": [
    "user_name=['侍','itirou','jirou','saburou','sirou']\n",
    "user_name.append('samuraigorou')\n",
    "print(user_name)\n",
    "user_name.pop(2)\n",
    "print(user_name)\n"
   ]
  },
  {
   "cell_type": "code",
   "execution_count": 20,
   "metadata": {},
   "outputs": [
    {
     "name": "stdout",
     "output_type": "stream",
     "text": [
      "{'furansu', 'igirisu', 'nihon', 'amerika'}\n",
      "{'doitu', 'furansu', 'igirisu', 'nihon', 'amerika'}\n",
      "{'doitu', 'furansu', 'nihon', 'amerika'}\n"
     ]
    }
   ],
   "source": [
    "country_names={'amerika','igirisu','nihon','furansu'}\n",
    "print(country_names)\n",
    "country_names.add('doitu')\n",
    "print(country_names)\n",
    "country_names.remove('igirisu')\n",
    "print(country_names)"
   ]
  },
  {
   "cell_type": "code",
   "execution_count": 21,
   "metadata": {},
   "outputs": [
    {
     "name": "stdout",
     "output_type": "stream",
     "text": [
      "samurai\n",
      "{'name': 'samurai', 'aga': 36, 'gender': 'dainsei'}\n",
      "{'name': 'samurai', 'aga': 37, 'gender': 'dainsei', 'address': 'toukyouto'}\n"
     ]
    }
   ],
   "source": [
    "personal_data={'name': 'samurai','aga': 36,'gender': 'dainsei'}\n",
    "print(personal_data['name'])\n",
    "print(personal_data)\n",
    "personal_data['aga']=37\n",
    "personal_data['address']='toukyouto'\n",
    "print(personal_data)"
   ]
  },
  {
   "cell_type": "code",
   "execution_count": 52,
   "metadata": {},
   "outputs": [
    {
     "name": "stdout",
     "output_type": "stream",
     "text": [
      "2\n",
      "はずれ\n",
      "1より大きく3より小さい\n",
      "OR条件が成り立ちません\n"
     ]
    }
   ],
   "source": [
    "import random\n",
    "num=random.randint(0,4)\n",
    "print(num)\n",
    "if num==4:\n",
    "    print('大当たり')\n",
    "else :\n",
    "    print('はずれ')\n",
    "\n",
    "if 1<num and 3>num:\n",
    "    print('1より大きく3より小さい')\n",
    "else:\n",
    "    print('and条件が成り立ちません')\n",
    "\n",
    "if num==1 or     num==3:\n",
    "    print('NUMは１または３です')\n",
    "else:\n",
    "    print('OR条件が成り立ちません')"
   ]
  },
  {
   "cell_type": "code",
   "execution_count": 54,
   "metadata": {},
   "outputs": [
    {
     "name": "stdout",
     "output_type": "stream",
     "text": [
      "1\n",
      "2\n",
      "3\n",
      "4\n",
      "5\n",
      "6\n"
     ]
    }
   ],
   "source": [
    "for i in range(1,11):\n",
    "    print(i)\n",
    "    if i==6:\n",
    "        break"
   ]
  },
  {
   "cell_type": "code",
   "execution_count": 69,
   "metadata": {},
   "outputs": [
    {
     "name": "stdout",
     "output_type": "stream",
     "text": [
      "0回目は17でした\n",
      "1回目は10でした\n",
      "2回目は20でした\n",
      "20が出たので終了します\n"
     ]
    }
   ],
   "source": [
    "import random\n",
    "for i in range(20):\n",
    "    num=random.randint(1,20)\n",
    "    if num%3==0:\n",
    "        continue\n",
    "    print(f'{i}回目は{num}でした')\n",
    "    if num==20:\n",
    "        print(f'{num}が出たので終了します')\n",
    "        break"
   ]
  },
  {
   "cell_type": "code",
   "execution_count": 75,
   "metadata": {},
   "outputs": [
    {
     "name": "stdout",
     "output_type": "stream",
     "text": [
      "nameはamuraitarouです\n",
      "agaは36です\n",
      "genderはdanseiです\n",
      "dansei\n",
      "dansei\n",
      "dansei\n"
     ]
    }
   ],
   "source": [
    "personal_data={'name':'amuraitarou','aga':36,'gender':'dansei'}\n",
    "for key,value in personal_data.items():\n",
    "    print(f'{key}は{value}です')\n",
    "for key in personal_data.keys():\n",
    "    print(value)"
   ]
  },
  {
   "cell_type": "code",
   "execution_count": 81,
   "metadata": {},
   "outputs": [
    {
     "name": "stdout",
     "output_type": "stream",
     "text": [
      "シャンプー\n"
     ]
    }
   ],
   "source": [
    "class Product:\n",
    "    def _init_(self):\n",
    "        self.name=''\n",
    "\n",
    "shampoo=Product()\n",
    "shampoo.name='シャンプー'\n",
    "print(shampoo.name)"
   ]
  },
  {
   "cell_type": "code",
   "execution_count": 78,
   "metadata": {},
   "outputs": [
    {
     "name": "stdout",
     "output_type": "stream",
     "text": [
      "シャンプー\n"
     ]
    }
   ],
   "source": [
    "class Product:\n",
    "    def __init__(self):\n",
    "        # 属性を定義する\n",
    "        self.name = \"\"\n",
    "\n",
    "shampoo = Product()\n",
    "\n",
    "# 属性にアクセスし、値を代入する\n",
    "shampoo.name = \"シャンプー\"\n",
    "\n",
    "# 属性にアクセスし、値を出力する\n",
    "print(shampoo.name)\n"
   ]
  },
  {
   "cell_type": "code",
   "execution_count": 82,
   "metadata": {},
   "outputs": [
    {
     "name": "stdout",
     "output_type": "stream",
     "text": [
      "コーヒー\n"
     ]
    }
   ],
   "source": [
    "class Product:\n",
    "    def __init__(self):\n",
    "        self.name=''\n",
    "    def set_name(self,name):\n",
    "        self.name=name\n",
    "    def show_name(self):\n",
    "        print(self.name)\n",
    "\n",
    "coffee=Product()\n",
    "coffee.set_name('コーヒー')\n",
    "coffee.show_name()\n",
    "    "
   ]
  },
  {
   "cell_type": "code",
   "execution_count": 83,
   "metadata": {},
   "outputs": [
    {
     "name": "stdout",
     "output_type": "stream",
     "text": [
      "侍太郎\n",
      "36\n",
      "男性\n"
     ]
    }
   ],
   "source": [
    "class User:\n",
    "    def __init__(self,name,age,gender):\n",
    "        self.name=name\n",
    "        self.age=age\n",
    "        self.gender=gender\n",
    "\n",
    "user=User('侍太郎',36,'男性')\n",
    "print(user.name)\n",
    "print(user.age)\n",
    "print(user.gender)"
   ]
  },
  {
   "cell_type": "code",
   "execution_count": 94,
   "metadata": {},
   "outputs": [
    {
     "name": "stdout",
     "output_type": "stream",
     "text": [
      "名前：斎藤　年齢：58\n"
     ]
    }
   ],
   "source": [
    "class Human:\n",
    "    def __init__(self,name,age):\n",
    "        self.name=name\n",
    "        self.age=age\n",
    "    \n",
    "    def printinfo(self):\n",
    "        print(f'名前：{self.name}　年齢：{self.age}')\n",
    "\n",
    "user=Human('斎藤',58) \n",
    "user.printinfo() "
   ]
  },
  {
   "cell_type": "code",
   "execution_count": 95,
   "metadata": {},
   "outputs": [
    {
     "name": "stdout",
     "output_type": "stream",
     "text": [
      "2024年11月05日18時20分08秒\n"
     ]
    }
   ],
   "source": [
    "import time\n",
    "\n",
    "# 現在の日時を指定したフォーマットで出力する\n",
    "print(time.strftime(\"%Y年%m月%d日%H時%M分%S秒\", time.localtime()))"
   ]
  },
  {
   "cell_type": "code",
   "execution_count": null,
   "metadata": {},
   "outputs": [],
   "source": []
  },
  {
   "cell_type": "code",
   "execution_count": 97,
   "metadata": {},
   "outputs": [
    {
     "name": "stdout",
     "output_type": "stream",
     "text": [
      "総日数は8997日です。\n"
     ]
    }
   ],
   "source": [
    "import datetime\n",
    "\n",
    "# 現在時刻を取得する\n",
    "now = datetime.datetime.now()\n",
    "\n",
    "# 指定した日時を取得する\n",
    "date_time = datetime.datetime.strptime(\"2000-03-19 12:15:30\", \"%Y-%m-%d %H:%M:%S\")\n",
    "\n",
    "# 2つのdatetimeの差を取得し、変数intervalに代入する（interval＝間隔）\n",
    "interval = now - date_time\n",
    "\n",
    "# 取得した日時の差を特定のフォーマットで出力する\n",
    "print(f\"総日数は{interval.days}日です。\")\n"
   ]
  },
  {
   "cell_type": "code",
   "execution_count": 98,
   "metadata": {},
   "outputs": [
    {
     "name": "stdout",
     "output_type": "stream",
     "text": [
      "現在から1年後は2025年11月05日18時28分43秒です。\n",
      "現在から3日前は2024年11月02日18時28分43秒です。\n"
     ]
    }
   ],
   "source": [
    "import datetime\n",
    "\n",
    "# 現在時刻を取得する\n",
    "now = datetime.datetime.now()\n",
    "\n",
    "# 1年間の日数差を変数td_1yに代入する\n",
    "td_1y = datetime.timedelta(days=365)\n",
    "\n",
    "# 現在の日時に1年を加算し、変数addに代入する\n",
    "add = now + td_1y\n",
    "\n",
    "# 3日間の日数差を変数td_3dに代入する\n",
    "td_3d = datetime.timedelta(days=3)\n",
    "\n",
    "# 現在の日時から3日を減算し、変数subに代入する（sub＝「減算」を意味するsubtractionの略）\n",
    "sub = now - td_3d\n",
    "\n",
    "# 加算・減算した日時を特定のフォーマットで出力する\n",
    "print(add.strftime(\"現在から1年後は%Y年%m月%d日%H時%M分%S秒です。\"))\n",
    "print(sub.strftime(\"現在から3日前は%Y年%m月%d日%H時%M分%S秒です。\"))\n"
   ]
  }
 ],
 "metadata": {
  "kernelspec": {
   "display_name": "Python 3",
   "language": "python",
   "name": "python3"
  },
  "language_info": {
   "codemirror_mode": {
    "name": "ipython",
    "version": 3
   },
   "file_extension": ".py",
   "mimetype": "text/x-python",
   "name": "python",
   "nbconvert_exporter": "python",
   "pygments_lexer": "ipython3",
   "version": "3.13.0"
  }
 },
 "nbformat": 4,
 "nbformat_minor": 2
}

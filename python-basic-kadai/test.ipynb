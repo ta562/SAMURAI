{
 "cells": [
  {
   "cell_type": "code",
   "execution_count": 19,
   "metadata": {},
   "outputs": [
    {
     "name": "stdout",
     "output_type": "stream",
     "text": [
      "['侍', 'itirou', 'jirou', 'saburou', 'sirou', 'samuraigorou']\n",
      "['侍', 'itirou', 'saburou', 'sirou', 'samuraigorou']\n"
     ]
    }
   ],
   "source": [
    "user_name=['侍','itirou','jirou','saburou','sirou']\n",
    "user_name.append('samuraigorou')\n",
    "print(user_name)\n",
    "user_name.pop(2)\n",
    "print(user_name)\n"
   ]
  },
  {
   "cell_type": "code",
   "execution_count": 20,
   "metadata": {},
   "outputs": [
    {
     "name": "stdout",
     "output_type": "stream",
     "text": [
      "{'furansu', 'igirisu', 'nihon', 'amerika'}\n",
      "{'doitu', 'furansu', 'igirisu', 'nihon', 'amerika'}\n",
      "{'doitu', 'furansu', 'nihon', 'amerika'}\n"
     ]
    }
   ],
   "source": [
    "country_names={'amerika','igirisu','nihon','furansu'}\n",
    "print(country_names)\n",
    "country_names.add('doitu')\n",
    "print(country_names)\n",
    "country_names.remove('igirisu')\n",
    "print(country_names)"
   ]
  },
  {
   "cell_type": "code",
   "execution_count": 21,
   "metadata": {},
   "outputs": [
    {
     "name": "stdout",
     "output_type": "stream",
     "text": [
      "samurai\n",
      "{'name': 'samurai', 'aga': 36, 'gender': 'dainsei'}\n",
      "{'name': 'samurai', 'aga': 37, 'gender': 'dainsei', 'address': 'toukyouto'}\n"
     ]
    }
   ],
   "source": [
    "personal_data={'name': 'samurai','aga': 36,'gender': 'dainsei'}\n",
    "print(personal_data['name'])\n",
    "print(personal_data)\n",
    "personal_data['aga']=37\n",
    "personal_data['address']='toukyouto'\n",
    "print(personal_data)"
   ]
  },
  {
   "cell_type": "code",
   "execution_count": 52,
   "metadata": {},
   "outputs": [
    {
     "name": "stdout",
     "output_type": "stream",
     "text": [
      "2\n",
      "はずれ\n",
      "1より大きく3より小さい\n",
      "OR条件が成り立ちません\n"
     ]
    }
   ],
   "source": [
    "import random\n",
    "num=random.randint(0,4)\n",
    "print(num)\n",
    "if num==4:\n",
    "    print('大当たり')\n",
    "else :\n",
    "    print('はずれ')\n",
    "\n",
    "if 1<num and 3>num:\n",
    "    print('1より大きく3より小さい')\n",
    "else:\n",
    "    print('and条件が成り立ちません')\n",
    "\n",
    "if num==1 or     num==3:\n",
    "    print('NUMは１または３です')\n",
    "else:\n",
    "    print('OR条件が成り立ちません')"
   ]
  },
  {
   "cell_type": "code",
   "execution_count": 54,
   "metadata": {},
   "outputs": [
    {
     "name": "stdout",
     "output_type": "stream",
     "text": [
      "1\n",
      "2\n",
      "3\n",
      "4\n",
      "5\n",
      "6\n"
     ]
    }
   ],
   "source": [
    "for i in range(1,11):\n",
    "    print(i)\n",
    "    if i==6:\n",
    "        break"
   ]
  },
  {
   "cell_type": "code",
   "execution_count": 69,
   "metadata": {},
   "outputs": [
    {
     "name": "stdout",
     "output_type": "stream",
     "text": [
      "0回目は17でした\n",
      "1回目は10でした\n",
      "2回目は20でした\n",
      "20が出たので終了します\n"
     ]
    }
   ],
   "source": [
    "import random\n",
    "for i in range(20):\n",
    "    num=random.randint(1,20)\n",
    "    if num%3==0:\n",
    "        continue\n",
    "    print(f'{i}回目は{num}でした')\n",
    "    if num==20:\n",
    "        print(f'{num}が出たので終了します')\n",
    "        break"
   ]
  },
  {
   "cell_type": "code",
   "execution_count": 75,
   "metadata": {},
   "outputs": [
    {
     "name": "stdout",
     "output_type": "stream",
     "text": [
      "nameはamuraitarouです\n",
      "agaは36です\n",
      "genderはdanseiです\n",
      "dansei\n",
      "dansei\n",
      "dansei\n"
     ]
    }
   ],
   "source": [
    "personal_data={'name':'amuraitarou','aga':36,'gender':'dansei'}\n",
    "for key,value in personal_data.items():\n",
    "    print(f'{key}は{value}です')\n",
    "for key in personal_data.keys():\n",
    "    print(value)"
   ]
  }
 ],
 "metadata": {
  "kernelspec": {
   "display_name": "Python 3",
   "language": "python",
   "name": "python3"
  },
  "language_info": {
   "codemirror_mode": {
    "name": "ipython",
    "version": 3
   },
   "file_extension": ".py",
   "mimetype": "text/x-python",
   "name": "python",
   "nbconvert_exporter": "python",
   "pygments_lexer": "ipython3",
   "version": "3.13.0"
  }
 },
 "nbformat": 4,
 "nbformat_minor": 2
}

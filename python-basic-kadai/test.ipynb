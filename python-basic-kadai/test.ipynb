{
 "cells": [
  {
   "cell_type": "code",
   "execution_count": 19,
   "metadata": {},
   "outputs": [
    {
     "name": "stdout",
     "output_type": "stream",
     "text": [
      "['侍', 'itirou', 'jirou', 'saburou', 'sirou', 'samuraigorou']\n",
      "['侍', 'itirou', 'saburou', 'sirou', 'samuraigorou']\n"
     ]
    }
   ],
   "source": [
    "user_name=['侍','itirou','jirou','saburou','sirou']\n",
    "user_name.append('samuraigorou')\n",
    "print(user_name)\n",
    "user_name.pop(2)\n",
    "print(user_name)\n"
   ]
  },
  {
   "cell_type": "code",
   "execution_count": 20,
   "metadata": {},
   "outputs": [
    {
     "name": "stdout",
     "output_type": "stream",
     "text": [
      "{'furansu', 'igirisu', 'nihon', 'amerika'}\n",
      "{'doitu', 'furansu', 'igirisu', 'nihon', 'amerika'}\n",
      "{'doitu', 'furansu', 'nihon', 'amerika'}\n"
     ]
    }
   ],
   "source": [
    "country_names={'amerika','igirisu','nihon','furansu'}\n",
    "print(country_names)\n",
    "country_names.add('doitu')\n",
    "print(country_names)\n",
    "country_names.remove('igirisu')\n",
    "print(country_names)"
   ]
  },
  {
   "cell_type": "code",
   "execution_count": 21,
   "metadata": {},
   "outputs": [
    {
     "name": "stdout",
     "output_type": "stream",
     "text": [
      "samurai\n",
      "{'name': 'samurai', 'aga': 36, 'gender': 'dainsei'}\n",
      "{'name': 'samurai', 'aga': 37, 'gender': 'dainsei', 'address': 'toukyouto'}\n"
     ]
    }
   ],
   "source": [
    "personal_data={'name': 'samurai','aga': 36,'gender': 'dainsei'}\n",
    "print(personal_data['name'])\n",
    "print(personal_data)\n",
    "personal_data['aga']=37\n",
    "personal_data['address']='toukyouto'\n",
    "print(personal_data)"
   ]
  }
 ],
 "metadata": {
  "kernelspec": {
   "display_name": "Python 3",
   "language": "python",
   "name": "python3"
  },
  "language_info": {
   "codemirror_mode": {
    "name": "ipython",
    "version": 3
   },
   "file_extension": ".py",
   "mimetype": "text/x-python",
   "name": "python",
   "nbconvert_exporter": "python",
   "pygments_lexer": "ipython3",
   "version": "3.13.0"
  }
 },
 "nbformat": 4,
 "nbformat_minor": 2
}

{
 "cells": [
  {
   "cell_type": "code",
   "execution_count": 4,
   "metadata": {},
   "outputs": [
    {
     "name": "stdout",
     "output_type": "stream",
     "text": [
      "1500円の商品の税込み価格は1650.0円です\n"
     ]
    }
   ],
   "source": [
    "def tax_included(num1:int,num2:int)->int:\n",
    "    num1=num1+num1*num2/100\n",
    "    return num1\n",
    "\n",
    "prise=1500\n",
    "tax=10\n",
    "print(f'{prise}円の商品の税込み価格は{tax_included(prise,tax)}円です')"
   ]
  }
 ],
 "metadata": {
  "kernelspec": {
   "display_name": "Python 3",
   "language": "python",
   "name": "python3"
  },
  "language_info": {
   "codemirror_mode": {
    "name": "ipython",
    "version": 3
   },
   "file_extension": ".py",
   "mimetype": "text/x-python",
   "name": "python",
   "nbconvert_exporter": "python",
   "pygments_lexer": "ipython3",
   "version": "3.13.0"
  }
 },
 "nbformat": 4,
 "nbformat_minor": 2
}
